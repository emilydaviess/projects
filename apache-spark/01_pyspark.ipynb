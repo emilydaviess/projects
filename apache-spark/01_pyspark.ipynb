{
 "cells": [
  {
   "cell_type": "code",
   "execution_count": 1,
   "id": "ab6c53a9-246c-4fc2-972d-f40498260b14",
   "metadata": {},
   "outputs": [
    {
     "name": "stdout",
     "output_type": "stream",
     "text": [
      "Collecting pyspark\n",
      "  Downloading pyspark-3.5.1.tar.gz (317.0 MB)\n",
      "\u001b[2K     \u001b[90m━━━━━━━━━━━━━━━━━━━━━━━━━━━━━━━━━━━━━━━\u001b[0m \u001b[32m317.0/317.0 MB\u001b[0m \u001b[31m1.3 MB/s\u001b[0m eta \u001b[36m0:00:00\u001b[0m00:01\u001b[0m00:01\u001b[0m\n",
      "\u001b[?25h  Preparing metadata (setup.py) ... \u001b[?25ldone\n",
      "\u001b[?25hCollecting py4j==0.10.9.7 (from pyspark)\n",
      "  Downloading py4j-0.10.9.7-py2.py3-none-any.whl.metadata (1.5 kB)\n",
      "Downloading py4j-0.10.9.7-py2.py3-none-any.whl (200 kB)\n",
      "\u001b[2K   \u001b[90m━━━━━━━━━━━━━━━━━━━━━━━━━━━━━━━━━━━━━━━━\u001b[0m \u001b[32m200.5/200.5 kB\u001b[0m \u001b[31m13.5 MB/s\u001b[0m eta \u001b[36m0:00:00\u001b[0m\n",
      "\u001b[?25hBuilding wheels for collected packages: pyspark\n",
      "  Building wheel for pyspark (setup.py) ... \u001b[?25ldone\n",
      "\u001b[?25h  Created wheel for pyspark: filename=pyspark-3.5.1-py2.py3-none-any.whl size=317488493 sha256=eaf6a373437820740aed2bd6a8ef5a103f9c978e67fbb05b67833e6f09040dd7\n",
      "  Stored in directory: /Users/emily/Library/Caches/pip/wheels/95/13/41/f7f135ee114175605fb4f0a89e7389f3742aa6c1e1a5bcb657\n",
      "Successfully built pyspark\n",
      "Installing collected packages: py4j, pyspark\n",
      "Successfully installed py4j-0.10.9.7 pyspark-3.5.1\n",
      "\n",
      "\u001b[1m[\u001b[0m\u001b[34;49mnotice\u001b[0m\u001b[1;39;49m]\u001b[0m\u001b[39;49m A new release of pip is available: \u001b[0m\u001b[31;49m24.1.2\u001b[0m\u001b[39;49m -> \u001b[0m\u001b[32;49m24.2\u001b[0m\n",
      "\u001b[1m[\u001b[0m\u001b[34;49mnotice\u001b[0m\u001b[1;39;49m]\u001b[0m\u001b[39;49m To update, run: \u001b[0m\u001b[32;49mpip install --upgrade pip\u001b[0m\n"
     ]
    }
   ],
   "source": [
    "!pip install pyspark"
   ]
  },
  {
   "cell_type": "code",
   "execution_count": 3,
   "id": "4b99444a-3fe1-42cf-910c-c102bf744550",
   "metadata": {},
   "outputs": [],
   "source": [
    "import pyspark\n",
    "import pandas as pd"
   ]
  },
  {
   "cell_type": "code",
   "execution_count": 4,
   "id": "a0fb658a-1ab1-4127-a97d-a5a83e53eb41",
   "metadata": {},
   "outputs": [
    {
     "data": {
      "text/html": [
       "<div>\n",
       "<style scoped>\n",
       "    .dataframe tbody tr th:only-of-type {\n",
       "        vertical-align: middle;\n",
       "    }\n",
       "\n",
       "    .dataframe tbody tr th {\n",
       "        vertical-align: top;\n",
       "    }\n",
       "\n",
       "    .dataframe thead th {\n",
       "        text-align: right;\n",
       "    }\n",
       "</style>\n",
       "<table border=\"1\" class=\"dataframe\">\n",
       "  <thead>\n",
       "    <tr style=\"text-align: right;\">\n",
       "      <th></th>\n",
       "      <th>Name</th>\n",
       "      <th>age</th>\n",
       "    </tr>\n",
       "  </thead>\n",
       "  <tbody>\n",
       "    <tr>\n",
       "      <th>0</th>\n",
       "      <td>Emily</td>\n",
       "      <td>29</td>\n",
       "    </tr>\n",
       "    <tr>\n",
       "      <th>1</th>\n",
       "      <td>Ashton</td>\n",
       "      <td>33</td>\n",
       "    </tr>\n",
       "    <tr>\n",
       "      <th>2</th>\n",
       "      <td>Billie</td>\n",
       "      <td>1</td>\n",
       "    </tr>\n",
       "  </tbody>\n",
       "</table>\n",
       "</div>"
      ],
      "text/plain": [
       "     Name  age\n",
       "0   Emily   29\n",
       "1  Ashton   33\n",
       "2  Billie    1"
      ]
     },
     "execution_count": 4,
     "metadata": {},
     "output_type": "execute_result"
    }
   ],
   "source": [
    "pd.read_csv(\"test.csv\")"
   ]
  },
  {
   "cell_type": "code",
   "execution_count": 6,
   "id": "06e3cf2b-0ec7-40a1-8136-5361025a5600",
   "metadata": {},
   "outputs": [
    {
     "data": {
      "text/html": [
       "\n",
       "            <div>\n",
       "                <p><b>SparkSession - in-memory</b></p>\n",
       "                \n",
       "        <div>\n",
       "            <p><b>SparkContext</b></p>\n",
       "\n",
       "            <p><a href=\"http://192.168.1.11:4040\">Spark UI</a></p>\n",
       "\n",
       "            <dl>\n",
       "              <dt>Version</dt>\n",
       "                <dd><code>v3.5.1</code></dd>\n",
       "              <dt>Master</dt>\n",
       "                <dd><code>local[*]</code></dd>\n",
       "              <dt>AppName</dt>\n",
       "                <dd><code>Practice App</code></dd>\n",
       "            </dl>\n",
       "        </div>\n",
       "        \n",
       "            </div>\n",
       "        "
      ],
      "text/plain": [
       "<pyspark.sql.session.SparkSession at 0x12a734b90>"
      ]
     },
     "execution_count": 6,
     "metadata": {},
     "output_type": "execute_result"
    }
   ],
   "source": [
    "# start a spark session \n",
    "from pyspark.sql import SparkSession\n",
    "\n",
    "spark=SparkSession.builder.appName(\"Practice App\").getOrCreate() # this will create one cluster\n",
    "spark "
   ]
  },
  {
   "cell_type": "code",
   "execution_count": 9,
   "id": "acdd8c34-a3a5-4108-9689-e9b88616d251",
   "metadata": {},
   "outputs": [
    {
     "name": "stdout",
     "output_type": "stream",
     "text": [
      "DataFrame[_c0: string, _c1: string]\n"
     ]
    }
   ],
   "source": [
    "# lets try and read the dataset with spark \n",
    "df_pyspark=spark.read.csv(\"test.csv\")\n",
    "print(df_pyspark)"
   ]
  },
  {
   "cell_type": "code",
   "execution_count": 11,
   "id": "f309fbf7-f42e-453d-b22d-c23c6e6bd6be",
   "metadata": {},
   "outputs": [
    {
     "name": "stdout",
     "output_type": "stream",
     "text": [
      "+------+---+\n",
      "|   _c0|_c1|\n",
      "+------+---+\n",
      "|  Name|age|\n",
      "| Emily| 29|\n",
      "|Ashton| 33|\n",
      "|Billie|  1|\n",
      "+------+---+\n",
      "\n"
     ]
    }
   ],
   "source": [
    "df_pyspark.show()"
   ]
  },
  {
   "cell_type": "code",
   "execution_count": 44,
   "id": "ad04e90f-9b97-4327-aa13-b2b9d6b85578",
   "metadata": {},
   "outputs": [
    {
     "name": "stdout",
     "output_type": "stream",
     "text": [
      "+------+---+----------+\n",
      "|  Name|age|Experience|\n",
      "+------+---+----------+\n",
      "| Emily| 29|        10|\n",
      "|Ashton| 33|         8|\n",
      "|Billie|  1|         0|\n",
      "+------+---+----------+\n",
      "\n",
      "DataFrame[Name: string, age: string, Experience: string]\n"
     ]
    }
   ],
   "source": [
    "spark.read.option('header','true').csv(\"test.csv\").show() # pull dataset with columns\n",
    "df_pyspark = spark.read.option('header','true').csv(\"test.csv\")\n",
    "print(df_pyspark) # the type is a pyspark.sql.dataframe rather than pandas dataframe"
   ]
  },
  {
   "cell_type": "code",
   "execution_count": 45,
   "id": "d3e7506f-ad0b-4d22-90b0-12578c9f653c",
   "metadata": {},
   "outputs": [
    {
     "data": {
      "text/plain": [
       "Row(Name='Emily', age='29', Experience='10')"
      ]
     },
     "execution_count": 45,
     "metadata": {},
     "output_type": "execute_result"
    }
   ],
   "source": [
    "# still has lots of same functionality i.e. \n",
    "df_pyspark.head()"
   ]
  },
  {
   "cell_type": "code",
   "execution_count": 46,
   "id": "618591d8-317d-448f-bb2d-f096d971421e",
   "metadata": {},
   "outputs": [
    {
     "name": "stdout",
     "output_type": "stream",
     "text": [
      "root\n",
      " |-- Name: string (nullable = true)\n",
      " |-- age: string (nullable = true)\n",
      " |-- Experience: string (nullable = true)\n",
      "\n",
      "+-------+------+------------------+-----------------+\n",
      "|summary|  Name|               age|       Experience|\n",
      "+-------+------+------------------+-----------------+\n",
      "|  count|     3|                 3|                3|\n",
      "|   mean|  NULL|              21.0|              6.0|\n",
      "| stddev|  NULL|17.435595774162696|5.291502622129181|\n",
      "|    min|Ashton|                 1|                0|\n",
      "|    max| Emily|                33|                8|\n",
      "+-------+------+------------------+-----------------+\n",
      "\n",
      "None\n"
     ]
    }
   ],
   "source": [
    "### check the schema \n",
    "df_pyspark.printSchema()\n",
    "df_pyspark.dtypes\n",
    "print(df_pyspark.describe().show())"
   ]
  },
  {
   "cell_type": "code",
   "execution_count": 47,
   "id": "75730bfd-1a17-4ad4-8edf-47a66770ccc8",
   "metadata": {},
   "outputs": [
    {
     "name": "stdout",
     "output_type": "stream",
     "text": [
      "+------+\n",
      "|  Name|\n",
      "+------+\n",
      "| Emily|\n",
      "|Ashton|\n",
      "|Billie|\n",
      "+------+\n",
      "\n",
      "DataFrame[Name: string, age: string]\n"
     ]
    }
   ],
   "source": [
    "## lets pull just the name column \n",
    "df_pyspark.select('Name') \n",
    "df_pyspark.select('Name').show() # returns the whole colum\n",
    "type(df_pyspark.select('Name')) \n",
    "\n",
    "print(df_pyspark.select('Name', 'age'))\n",
    "\n"
   ]
  },
  {
   "cell_type": "code",
   "execution_count": 48,
   "id": "2c9f3baf-d2f6-495c-ae37-c835d54ce145",
   "metadata": {},
   "outputs": [
    {
     "name": "stdout",
     "output_type": "stream",
     "text": [
      "+------+---+----------+------------------------+\n",
      "|  Name|age|Experience|Experience After 2 Years|\n",
      "+------+---+----------+------------------------+\n",
      "| Emily| 29|        10|                    12.0|\n",
      "|Ashton| 33|         8|                    10.0|\n",
      "|Billie|  1|         0|                     2.0|\n",
      "+------+---+----------+------------------------+\n",
      "\n"
     ]
    }
   ],
   "source": [
    "# adding columns 'Experience After 2 Years' in a dataframe which is experience + 2 \n",
    "df_pyspark = df_pyspark.withColumn('Experience After 2 Years', df_pyspark['Experience']+2)\n",
    "df_pyspark.show()"
   ]
  },
  {
   "cell_type": "code",
   "execution_count": 49,
   "id": "be9e62b8-f608-43b6-b140-fa6f584b43b4",
   "metadata": {},
   "outputs": [
    {
     "data": {
      "text/plain": [
       "DataFrame[Name: string, age: string, Experience: string]"
      ]
     },
     "execution_count": 49,
     "metadata": {},
     "output_type": "execute_result"
    }
   ],
   "source": [
    "## drop columns \n",
    "df_pyspark = df_pyspark.drop('Experience After 2 Years')\n",
    "df_pyspark"
   ]
  },
  {
   "cell_type": "code",
   "execution_count": 52,
   "id": "8da82b7f-745c-44b3-8983-f54de4df03b7",
   "metadata": {},
   "outputs": [
    {
     "name": "stdout",
     "output_type": "stream",
     "text": [
      "<class 'pyspark.sql.dataframe.DataFrame'>\n",
      "+------+---+----------+\n",
      "|  Name|age|Experience|\n",
      "+------+---+----------+\n",
      "| Emily| 29|        10|\n",
      "|Ashton| 33|         8|\n",
      "|Billie|  1|         0|\n",
      "+------+---+----------+\n",
      "\n"
     ]
    }
   ],
   "source": [
    "## rename a column \n",
    "print(type(df_pyspark))\n",
    "df_pyspark.withColumnRenamed('Name','New Name')\n",
    "df_pyspark.show()"
   ]
  }
 ],
 "metadata": {
  "kernelspec": {
   "display_name": "Python 3 (ipykernel)",
   "language": "python",
   "name": "python3"
  },
  "language_info": {
   "codemirror_mode": {
    "name": "ipython",
    "version": 3
   },
   "file_extension": ".py",
   "mimetype": "text/x-python",
   "name": "python",
   "nbconvert_exporter": "python",
   "pygments_lexer": "ipython3",
   "version": "3.11.5"
  }
 },
 "nbformat": 4,
 "nbformat_minor": 5
}
