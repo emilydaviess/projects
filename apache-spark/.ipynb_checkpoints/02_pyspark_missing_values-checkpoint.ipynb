{
 "cells": [
  {
   "cell_type": "code",
   "execution_count": 1,
   "id": "da2f4d0e-46fb-4e9b-9803-cdb4c0a0d175",
   "metadata": {},
   "outputs": [
    {
     "name": "stderr",
     "output_type": "stream",
     "text": [
      "24/07/30 20:47:14 WARN Utils: Your hostname, MacBook-Pro-2.local resolves to a loopback address: 127.0.0.1; using 192.168.1.11 instead (on interface en0)\n",
      "24/07/30 20:47:14 WARN Utils: Set SPARK_LOCAL_IP if you need to bind to another address\n",
      "Setting default log level to \"WARN\".\n",
      "To adjust logging level use sc.setLogLevel(newLevel). For SparkR, use setLogLevel(newLevel).\n",
      "24/07/30 20:47:15 WARN NativeCodeLoader: Unable to load native-hadoop library for your platform... using builtin-java classes where applicable\n",
      "24/07/30 20:47:16 WARN Utils: Service 'SparkUI' could not bind on port 4040. Attempting port 4041.\n"
     ]
    }
   ],
   "source": [
    "from pyspark.sql import SparkSession \n",
    "spark = SparkSession.builder.appName('Practice2').getOrCreate()"
   ]
  },
  {
   "cell_type": "code",
   "execution_count": 7,
   "id": "63315f2e-527f-451d-91f0-348a2bff0f64",
   "metadata": {},
   "outputs": [
    {
     "name": "stdout",
     "output_type": "stream",
     "text": [
      "+------+----+----------+------+\n",
      "|  Name| age|Experience|Salary|\n",
      "+------+----+----------+------+\n",
      "| Emily|  29|        10| 10000|\n",
      "|Ashton|  33|         8| 30000|\n",
      "|Billie|   1|         0|   500|\n",
      "| Helen|  55|        30| 10000|\n",
      "|   Jac|  25|      NULL| 50000|\n",
      "|   Jon|NULL|        30|   500|\n",
      "+------+----+----------+------+\n",
      "\n"
     ]
    }
   ],
   "source": [
    "# import CSV\n",
    "df_pyspark = spark.read.csv(\"test.csv\", header=True,inferSchema=True)\n",
    "df_pyspark.show()"
   ]
  },
  {
   "cell_type": "code",
   "execution_count": 8,
   "id": "60d32635-53f8-424a-bcf2-7640bc333ede",
   "metadata": {},
   "outputs": [
    {
     "name": "stdout",
     "output_type": "stream",
     "text": [
      "+----+----------+------+\n",
      "| age|Experience|Salary|\n",
      "+----+----------+------+\n",
      "|  29|        10| 10000|\n",
      "|  33|         8| 30000|\n",
      "|   1|         0|   500|\n",
      "|  55|        30| 10000|\n",
      "|  25|      NULL| 50000|\n",
      "|NULL|        30|   500|\n",
      "+----+----------+------+\n",
      "\n"
     ]
    }
   ],
   "source": [
    "## lets drop column \n",
    "df_pyspark = df_pyspark.drop('Name')\n",
    "df_pyspark.show()"
   ]
  },
  {
   "cell_type": "code",
   "execution_count": 12,
   "id": "215e8b5e-ea02-4a93-8bc8-cbfb9165d6ae",
   "metadata": {},
   "outputs": [
    {
     "name": "stdout",
     "output_type": "stream",
     "text": [
      "+---+----------+------+\n",
      "|age|Experience|Salary|\n",
      "+---+----------+------+\n",
      "| 29|        10| 10000|\n",
      "| 33|         8| 30000|\n",
      "|  1|         0|   500|\n",
      "| 55|        30| 10000|\n",
      "+---+----------+------+\n",
      "\n",
      "+----+----------+------+\n",
      "| age|Experience|Salary|\n",
      "+----+----------+------+\n",
      "|  29|        10| 10000|\n",
      "|  33|         8| 30000|\n",
      "|   1|         0|   500|\n",
      "|  55|        30| 10000|\n",
      "|  25|      NULL| 50000|\n",
      "|NULL|        30|   500|\n",
      "+----+----------+------+\n",
      "\n",
      "+----+----------+------+\n",
      "| age|Experience|Salary|\n",
      "+----+----------+------+\n",
      "|  29|        10| 10000|\n",
      "|  33|         8| 30000|\n",
      "|   1|         0|   500|\n",
      "|  55|        30| 10000|\n",
      "|  25|      NULL| 50000|\n",
      "|NULL|        30|   500|\n",
      "+----+----------+------+\n",
      "\n",
      "+----+----------+------+\n",
      "| age|Experience|Salary|\n",
      "+----+----------+------+\n",
      "|  29|        10| 10000|\n",
      "|  33|         8| 30000|\n",
      "|   1|         0|   500|\n",
      "|  55|        30| 10000|\n",
      "|NULL|        30|   500|\n",
      "+----+----------+------+\n",
      "\n"
     ]
    }
   ],
   "source": [
    "# lets drop any NA/NULL values - we have null values on row 5&6\n",
    "df_pyspark.na.drop().show()\n",
    "# to make use of 'how' functionality... if you only want to drop a row where ALL values are null \n",
    "df_pyspark.na.drop(how=\"all\").show() # this wouldn't drop any rows in our df\n",
    "df_pyspark.na.drop(how=\"all\", thresh=2).show() # this would delete rows where we have two NULLS \n",
    "df_pyspark.na.drop(how=\"all\", subset=['Experience']).show() # only deletes rwos where nulls exist in Experience column"
   ]
  }
 ],
 "metadata": {
  "kernelspec": {
   "display_name": "Python 3 (ipykernel)",
   "language": "python",
   "name": "python3"
  },
  "language_info": {
   "codemirror_mode": {
    "name": "ipython",
    "version": 3
   },
   "file_extension": ".py",
   "mimetype": "text/x-python",
   "name": "python",
   "nbconvert_exporter": "python",
   "pygments_lexer": "ipython3",
   "version": "3.11.5"
  }
 },
 "nbformat": 4,
 "nbformat_minor": 5
}
