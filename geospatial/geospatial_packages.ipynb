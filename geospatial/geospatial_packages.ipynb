{
 "cells": [
  {
   "cell_type": "code",
   "execution_count": 1,
   "id": "a8d81b94-ba02-4b82-a4d8-2aebf487e438",
   "metadata": {},
   "outputs": [
    {
     "name": "stderr",
     "output_type": "stream",
     "text": [
      "/var/folders/06/6rdmgg8n1pj8f74_pwr3j1qw0000gn/T/ipykernel_1272/150023832.py:21: FutureWarning: The geopandas.dataset module is deprecated and will be removed in GeoPandas 1.0. You can get the original 'naturalearth_lowres' data from https://www.naturalearthdata.com/downloads/110m-cultural-vectors/.\n",
      "  geopandas.datasets.get_path('naturalearth_lowres')\n",
      "/var/folders/06/6rdmgg8n1pj8f74_pwr3j1qw0000gn/T/ipykernel_1272/150023832.py:23: FutureWarning: The geopandas.dataset module is deprecated and will be removed in GeoPandas 1.0. You can get the original 'naturalearth_lowres' data from https://www.naturalearthdata.com/downloads/110m-cultural-vectors/.\n",
      "  world = geopandas.read_file(geopandas.datasets.get_path('naturalearth_lowres'))\n"
     ]
    },
    {
     "data": {
      "image/png": "[encoded data removed]",
      "text/plain": [
       "<Figure size 640x480 with 1 Axes>"
      ]
     },
     "metadata": {},
     "output_type": "display_data"
    }
   ],
   "source": [
    "# Geopandas\n",
    " \n",
    "# Suitable for: Vector Data\n",
    "\n",
    "'''\n",
    "Geopandas is a widely used Python library for working with vector geospatial data, providing intuitive geographic data handling in Pandas DataFrames. \n",
    "It supports formats like Shapefiles and GeoJSON and offers spatial operations such as merging, grouping, and spatial joins. \n",
    "Geopandas integrates seamlessly with popular libraries like Pandas, NumPy, and Matplotlib. \n",
    "It can handle large datasets, but this can pose challenges. Geopandas package is commonly used for spatial data analysis tasks, including spatial joins, queries, and geospatial operations like buffering and intersection analysis. \n",
    "Geopandas requires different packages like Shapely to handle geometric operations, Fiona to access files, and matplotlib for plotting.\n",
    "\n",
    "For example, Geopandas can be used to explore real estate data to identify the most expensive neighborhoods in a city or to analyze population data to visualize the growth and migration patterns of different communities.\n",
    "\n",
    "'''\n",
    "\n",
    "import geopandas\n",
    "# Check available maps\n",
    "geopandas.datasets.available\n",
    "\n",
    "# Selecting a particular map\n",
    "geopandas.datasets.get_path('naturalearth_lowres')\n",
    "# Open the selected map - GeoDataFrame\n",
    "world = geopandas.read_file(geopandas.datasets.get_path('naturalearth_lowres'))\n",
    "# Create a subset of the GeoDataFrame\n",
    "usa = world[world.name == \"United States of America\"]\n",
    "# Plot the subset\n",
    "usa.plot();\n"
   ]
  },
  {
   "cell_type": "code",
   "execution_count": 2,
   "id": "276ff857-dec3-48bc-9109-0e228adb9a4c",
   "metadata": {
    "scrolled": true
   },
   "outputs": [
    {
     "data": {
      "text/html": [
       "<div style=\"width:100%;\"><div style=\"position:relative;width:100%;height:0;padding-bottom:60%;\"><span style=\"color:#565656\">Make this Notebook Trusted to load map: File -> Trust Notebook</span><iframe srcdoc=\"&lt;!DOCTYPE html&gt;\n",
       "&lt;html&gt;\n",
       "&lt;head&gt;\n",
       "    \n",
       "    &lt;meta http-equiv=&quot;content-type&quot; content=&quot;text/html; charset=UTF-8&quot; /&gt;\n",
       "    \n",
       "        &lt;script&gt;\n",
       "            L_NO_TOUCH = false;\n",
       "            L_DISABLE_3D = false;\n",
       "        &lt;/script&gt;\n",
       "    \n",
       "    &lt;style&gt;html, body {width: 100%;height: 100%;margin: 0;padding: 0;}&lt;/style&gt;\n",
       "    &lt;style&gt;#map {position:absolute;top:0;bottom:0;right:0;left:0;}&lt;/style&gt;\n",
       "    &lt;script src=&quot;https://cdn.jsdelivr.net/npm/leaflet@1.9.3/dist/leaflet.js&quot;&gt;&lt;/script&gt;\n",
       "    &lt;script src=&quot;https://code.jquery.com/jquery-3.7.1.min.js&quot;&gt;&lt;/script&gt;\n",
       "    &lt;script src=&quot;https://cdn.jsdelivr.net/npm/bootstrap@5.2.2/dist/js/bootstrap.bundle.min.js&quot;&gt;&lt;/script&gt;\n",
       "    &lt;script src=&quot;https://cdnjs.cloudflare.com/ajax/libs/Leaflet.awesome-markers/2.0.2/leaflet.awesome-markers.js&quot;&gt;&lt;/script&gt;\n",
       "    &lt;link rel=&quot;stylesheet&quot; href=&quot;https://cdn.jsdelivr.net/npm/leaflet@1.9.3/dist/leaflet.css&quot;/&gt;\n",
       "    &lt;link rel=&quot;stylesheet&quot; href=&quot;https://cdn.jsdelivr.net/npm/bootstrap@5.2.2/dist/css/bootstrap.min.css&quot;/&gt;\n",
       "    &lt;link rel=&quot;stylesheet&quot; href=&quot;https://netdna.bootstrapcdn.com/bootstrap/3.0.0/css/bootstrap.min.css&quot;/&gt;\n",
       "    &lt;link rel=&quot;stylesheet&quot; href=&quot;https://cdn.jsdelivr.net/npm/@fortawesome/fontawesome-free@6.2.0/css/all.min.css&quot;/&gt;\n",
       "    &lt;link rel=&quot;stylesheet&quot; href=&quot;https://cdnjs.cloudflare.com/ajax/libs/Leaflet.awesome-markers/2.0.2/leaflet.awesome-markers.css&quot;/&gt;\n",
       "    &lt;link rel=&quot;stylesheet&quot; href=&quot;https://cdn.jsdelivr.net/gh/python-visualization/folium/folium/templates/leaflet.awesome.rotate.min.css&quot;/&gt;\n",
       "    \n",
       "            &lt;meta name=&quot;viewport&quot; content=&quot;width=device-width,\n",
       "                initial-scale=1.0, maximum-scale=1.0, user-scalable=no&quot; /&gt;\n",
       "            &lt;style&gt;\n",
       "                #map_001bbecf367ecd90fd93af3bf40fa010 {\n",
       "                    position: relative;\n",
       "                    width: 100.0%;\n",
       "                    height: 100.0%;\n",
       "                    left: 0.0%;\n",
       "                    top: 0.0%;\n",
       "                }\n",
       "                .leaflet-container { font-size: 1rem; }\n",
       "            &lt;/style&gt;\n",
       "        \n",
       "&lt;/head&gt;\n",
       "&lt;body&gt;\n",
       "    \n",
       "    \n",
       "            &lt;div class=&quot;folium-map&quot; id=&quot;map_001bbecf367ecd90fd93af3bf40fa010&quot; &gt;&lt;/div&gt;\n",
       "        \n",
       "&lt;/body&gt;\n",
       "&lt;script&gt;\n",
       "    \n",
       "    \n",
       "            var map_001bbecf367ecd90fd93af3bf40fa010 = L.map(\n",
       "                &quot;map_001bbecf367ecd90fd93af3bf40fa010&quot;,\n",
       "                {\n",
       "                    center: [0.0, 0.0],\n",
       "                    crs: L.CRS.EPSG3857,\n",
       "                    zoom: 2,\n",
       "                    zoomControl: true,\n",
       "                    preferCanvas: false,\n",
       "                }\n",
       "            );\n",
       "\n",
       "            \n",
       "\n",
       "        \n",
       "    \n",
       "            var tile_layer_a1c02209f8d35caff5e0eda1e36d8151 = L.tileLayer(\n",
       "                &quot;https://{s}.tile.openstreetmap.org/{z}/{x}/{y}.png&quot;,\n",
       "                {&quot;attribution&quot;: &quot;Data by \\u0026copy; \\u003ca target=\\&quot;_blank\\&quot; href=\\&quot;http://openstreetmap.org\\&quot;\\u003eOpenStreetMap\\u003c/a\\u003e, under \\u003ca target=\\&quot;_blank\\&quot; href=\\&quot;http://www.openstreetmap.org/copyright\\&quot;\\u003eODbL\\u003c/a\\u003e.&quot;, &quot;detectRetina&quot;: false, &quot;maxNativeZoom&quot;: 18, &quot;maxZoom&quot;: 18, &quot;minZoom&quot;: 0, &quot;noWrap&quot;: false, &quot;opacity&quot;: 1, &quot;subdomains&quot;: &quot;abc&quot;, &quot;tms&quot;: false}\n",
       "            );\n",
       "        \n",
       "    \n",
       "                tile_layer_a1c02209f8d35caff5e0eda1e36d8151.addTo(map_001bbecf367ecd90fd93af3bf40fa010);\n",
       "    \n",
       "            var marker_61a0e37c3bbba0eb3b0ea1e91179988b = L.marker(\n",
       "                [0.0, 0.0],\n",
       "                {}\n",
       "            ).addTo(map_001bbecf367ecd90fd93af3bf40fa010);\n",
       "        \n",
       "&lt;/script&gt;\n",
       "&lt;/html&gt;\" style=\"position:absolute;width:100%;height:100%;left:0;top:0;border:none !important;\" allowfullscreen webkitallowfullscreen mozallowfullscreen></iframe></div></div>"
      ],
      "text/plain": [
       "<folium.folium.Map at 0x127cbb290>"
      ]
     },
     "execution_count": 2,
     "metadata": {},
     "output_type": "execute_result"
    }
   ],
   "source": [
    "# Folium \n",
    "\n",
    "# Suitable for: Point clouds\n",
    "# Folium is a Python library for creating interactive maps with markers, pop-ups, choropleths, and other geospatial visualizations. It integrates with the Leaflet JavaScript library and allows exporting maps to HTML. It can be combined with Geopandas and Cartopy and handles large datasets using Map Tiles. Folium excels in simplicity, aesthetics, and integration with other geospatial libraries. However, for advanced geospatial analysis and manipulation, Folium may have limitations.\n",
    "# For example, Folium could be utilized in supply chain and logistics for visualizing distribution networks, optimizing routes, and monitoring shipment locations.\n",
    "\n",
    "import folium\n",
    "# Generate a Folium map with center coordinates (0, 0)\n",
    "map = folium.Map(location=[0, 0], zoom_start=2)\n",
    "# Locate the coordinates 0, 0\n",
    "folium.Marker([0, 0]).add_to(map)\n",
    "# Display the map\n",
    "map\n",
    "\n",
    "# This map can be customized further by adding markers, layers, or styling options based on specific geospatial data."
   ]
  },
  {
   "cell_type": "code",
   "execution_count": 1,
   "id": "72e5ee33-2a73-4bfa-aa2a-9c35d7aeed7a",
   "metadata": {},
   "outputs": [
    {
     "name": "stdout",
     "output_type": "stream",
     "text": [
      "hello\n"
     ]
    }
   ],
   "source": [
    "print(\"hello\")\n"
   ]
  },
  {
   "cell_type": "code",
   "execution_count": 8,
   "id": "dd85696a-7a07-433f-ab95-cf74a71da2a8",
   "metadata": {},
   "outputs": [],
   "source": [
    "# Geoplot\n",
    "\n",
    "# Suitable for: vector data, interactive\n",
    "# Geoplot is a user-friendly Python library for quickly creating visually appealing geospatial visualizations, including choropleth maps and scatter plots. \n",
    "# It seamlessly integrates with popular data manipulation libraries like Pandas and supports multiple map projections. \n",
    "# However, Geoplot has limitations regarding interactive map support and a smaller range of plot types than specialized geospatial libraries. Nonetheless, it remains valuable for quick geospatial data visualization and gaining insights into spatial patterns.\n",
    "\n",
    "# We will plot a choropleth map visualization using Geoplot, where we select the Asian countries from a world shapefile based on the \"continent\" attribute, assign the color intensity based on the \"pop_est\" attribute, and plot the map using the \"icefire\" color map with a legend with a figure size of 10 by 5.\n",
    "import geoplot"
   ]
  },
  {
   "cell_type": "code",
   "execution_count": 4,
   "id": "edf7b58f-33ce-4b31-82d6-6c07f4a2a532",
   "metadata": {},
   "outputs": [],
   "source": [
    "# ipyleaflet\n",
    "\n",
    "# Suitable for: Point clouds, interactive \n",
    "# The ipyleaflet package enables the easy creation of interactive maps in Python, particularly within Jupyter notebooks, allowing users to generate and share interactive maps with various basemaps, markers, and other geospatial operations. Built on the leaflet JavaScript library, ipyleaflet supports GeoJSON and WMS layers, CSS and JavaScript styling, and geospatial calculations. While ipyleaflet excels in interactive widgets, it may not be ideal for pure Python-based projects due to its JavaScript dependency.\n",
    "\n",
    "# For example, ipyleaflet can be applied in environmental monitoring to visualize sensor data, monitor air quality, and assess environmental changes in real time. \n",
    "\n",
    "# Let us create an interactive map with a marker placed at the coordinates (40.7128, -74.0060) to represent a point of interest in New York City using the code below:\n",
    "from ipyleaflet import Map, Marker\n",
    "# Create the map\n",
    "m = Map(center=(40.7128, -74.0060), zoom=12)\n",
    "# Add the market\n",
    "marker = Marker(location=(40.7128, -74.0060))\n",
    "m.add_layer(marker)\n"
   ]
  },
  {
   "cell_type": "code",
   "execution_count": 7,
   "id": "c697a0bf-03aa-49bc-a7bd-be73d6fbc6f1",
   "metadata": {},
   "outputs": [],
   "source": [
    "# Rasterio\n",
    "# Suitable for: Raster data\n",
    "\n",
    "# Rasterio is a powerful Python library for working with geospatial raster data, offering efficient performance and a wide range of operations like cropping, reprojecting, and resampling. It supports various raster formats and integrates well with other geospatial libraries, although it has limitations in handling vector data and complex analysis tasks. Nevertheless, Rasterio is an essential tool for efficient raster data manipulation and processing in Python.\n",
    "# For example, rasterio can be used in tasks such as reading and writing satellite imagery, performing terrain analysis, extracting data from digital elevation models, and conducting remote sensing analysis.\n",
    "\n",
    "import rasterio\n",
    "from rasterio.plot import show"
   ]
  },
  {
   "cell_type": "code",
   "execution_count": null,
   "id": "d54446fb-8709-4f59-b2dd-bff80b46ee84",
   "metadata": {},
   "outputs": [],
   "source": []
  }
 ],
 "metadata": {
  "kernelspec": {
   "display_name": "Python 3 (ipykernel)",
   "language": "python",
   "name": "python3"
  },
  "language_info": {
   "codemirror_mode": {
    "name": "ipython",
    "version": 3
   },
   "file_extension": ".py",
   "mimetype": "text/x-python",
   "name": "python",
   "nbconvert_exporter": "python",
   "pygments_lexer": "ipython3",
   "version": "3.12.0"
  }
 },
 "nbformat": 4,
 "nbformat_minor": 5
}
