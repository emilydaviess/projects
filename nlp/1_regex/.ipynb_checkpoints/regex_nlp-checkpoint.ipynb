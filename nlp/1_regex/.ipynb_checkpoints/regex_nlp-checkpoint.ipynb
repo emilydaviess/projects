{
 "cells": [
  {
   "cell_type": "code",
   "execution_count": 1,
   "id": "afeab21f-65a1-48fd-a6f4-f5cb2e4a951c",
   "metadata": {},
   "outputs": [],
   "source": [
    "import re"
   ]
  },
  {
   "cell_type": "code",
   "execution_count": 13,
   "id": "41ace81b-59e5-4fe6-aacc-d195582e4671",
   "metadata": {},
   "outputs": [],
   "source": [
    "chat1 = 'code basics you ask alot of questions 1235678912, abc@xyz.com order num 012831'\n",
    "chat2 = 'here it is (123)-567-8912, abc_82@xyz.com order 92103812'\n",
    "chat3 = 'phone: 1235678912 email: abc@xyz.com order #: 832972'"
   ]
  },
  {
   "cell_type": "code",
   "execution_count": 9,
   "id": "6c356b7f-d585-47c2-8502-6130e10dcff6",
   "metadata": {},
   "outputs": [
    {
     "data": {
      "text/plain": [
       "['(123)-567-8912']"
      ]
     },
     "execution_count": 9,
     "metadata": {},
     "output_type": "execute_result"
    }
   ],
   "source": [
    "phone_pattern = '\\d{10}|\\(\\d{3}\\)-\\d{3}-\\d{4}' # use https://regex101.com/ for help on regex\n",
    "# \\d{10} = \\d matches DIGITS and {10} makes it 10 digits\n",
    "# the | make it an OR statement - we either wnt to match a 10 digit number OR in format (123)-567-8912\n",
    "# \\(\\d{3}\\)-\\d{3}-\\d{4} is the regex for matching (123)-567-8912. we need to escape the brackets as they have additional meaning in regex\n",
    "\n",
    "matches = re.findall(phone_pattern,chat2)\n",
    "matches"
   ]
  },
  {
   "cell_type": "code",
   "execution_count": 10,
   "id": "a8be8c29-5bb6-4b9b-888b-83f54dbfd22d",
   "metadata": {},
   "outputs": [
    {
     "data": {
      "text/plain": [
       "['abc@xyz.com']"
      ]
     },
     "execution_count": 10,
     "metadata": {},
     "output_type": "execute_result"
    }
   ],
   "source": [
    "email_pattern = '[a-z0-9A-Z_]*@[a-z0-9A-Z]*\\.[a-zA-Z]*' # use https://regex101.com/ for help on regex\n",
    "# \\d{10} = \\d matches DIGITS and {10} makes it 10 digits\n",
    "# the | make it an OR statement - we either wnt to match a 10 digit number OR in format (123)-567-8912\n",
    "# \\(\\d{3}\\)-\\d{3}-\\d{4} is the regex for matching (123)-567-8912. we need to escape the brackets as they have additional meaning in regex\n",
    "\n",
    "matches = re.findall(email_pattern,chat1)\n",
    "matches"
   ]
  },
  {
   "cell_type": "code",
   "execution_count": 17,
   "id": "cb41f9a9-2f0c-4862-a1d6-1f3262a07c29",
   "metadata": {},
   "outputs": [
    {
     "data": {
      "text/plain": [
       "['832972']"
      ]
     },
     "execution_count": 17,
     "metadata": {},
     "output_type": "execute_result"
    }
   ],
   "source": [
    "order_pattern = 'order[^\\d]*([\\d]*)'\n",
    "# regex: 'order' folowed by anythingg other than DIGITS using ^, followed by any digital \\d*. we use brackets () so we ONLY pull the number part (we ignore the 'order' secion) \n",
    "\n",
    "matches = re.findall(order_pattern,chat3)\n",
    "matches"
   ]
  },
  {
   "cell_type": "code",
   "execution_count": 18,
   "id": "a4d242b4-5310-4d6c-ba8d-f63b39cfb671",
   "metadata": {},
   "outputs": [],
   "source": [
    "# extract specific text from text blog\n",
    "text ='''\n",
    "Born\tElon Reeve Musk\n",
    "June 28, 1971 (age 53)\n",
    "Pretoria, Transvaal, South Africa\n",
    "Citizenship\t\n",
    "South Africa\n",
    "Canada\n",
    "United States\n",
    "Education\tUniversity of Pennsylvania (BA, BS)\n",
    "Title\t\n",
    "Founder, CEO, and chief engineer of SpaceX\n",
    "CEO and product architect of Tesla, Inc.\n",
    "Owner, CTO and Executive Chairman of X (formerly Twitter)\n",
    "President of the Musk Foundation\n",
    "Founder of The Boring Company, X Corp., and xAI\n",
    "Co-founder of Neuralink, OpenAI, Zip2, and X.com (part of PayPal)\n",
    "Spouses\t\n",
    "Justine Wilson\n",
    "​\n",
    "​(m. 2000; div. 2008)​\n",
    "Talulah Riley\n",
    "​\n",
    "​(m. 2010; div. 2012)​\n",
    "​\n",
    "​(m. 2013; div. 2016)​\n",
    "Partners\t\n",
    "Grimes (2018–2021)[1]\n",
    "Children\t12[a][3]\n",
    "Parents\t\n",
    "Errol Musk\n",
    "Maye Musk\n",
    "Relatives\t\n",
    "Kimbal Musk (brother)\n",
    "Tosca Musk (sister)\n",
    "Lyndon Rive (cousin)\n",
    "'''"
   ]
  },
  {
   "cell_type": "code",
   "execution_count": 20,
   "id": "ddd75d9d-3ef6-4e74-933c-6796d69f393b",
   "metadata": {},
   "outputs": [
    {
     "data": {
      "text/plain": [
       "['53']"
      ]
     },
     "execution_count": 20,
     "metadata": {},
     "output_type": "execute_result"
    }
   ],
   "source": [
    "age_pattern = 'age (\\d+)' # age followed by space then digits (the + gets all digits after)\n",
    "matches = re.findall(age_pattern,text)\n",
    "matches"
   ]
  },
  {
   "cell_type": "code",
   "execution_count": 21,
   "id": "859338c4-7fad-4b4e-8603-258856d0b24f",
   "metadata": {},
   "outputs": [
    {
     "data": {
      "text/plain": [
       "['\\tElon Reeve Musk']"
      ]
     },
     "execution_count": 21,
     "metadata": {},
     "output_type": "execute_result"
    }
   ],
   "source": [
    "born_pattern = 'Born(.*)\\n' # Born followed by any chacter (.*) up until a new line\n",
    "matches = re.findall(born_pattern,text)\n",
    "matches"
   ]
  },
  {
   "cell_type": "code",
   "execution_count": 26,
   "id": "13fe434d-b263-4ab5-a354-6bfb5c900f20",
   "metadata": {},
   "outputs": [
    {
     "data": {
      "text/plain": [
       "{'age': 53,\n",
       " 'name': 'Elon Reeve Musk',\n",
       " 'birth_date': 'June 28, 1971',\n",
       " 'birth_place': 'Pretoria, Transvaal, South Africa'}"
      ]
     },
     "execution_count": 26,
     "metadata": {},
     "output_type": "execute_result"
    }
   ],
   "source": [
    "def get_pattern_match(pattern,text):\n",
    "    matches = re.findall(pattern,text)\n",
    "    if matches:\n",
    "        return matches[0]\n",
    "        \n",
    "def get_pesonal_info(text):\n",
    "    age = get_pattern_match(\"age (\\d+)\", text)\n",
    "    full_name = get_pattern_match(\"Born(.*)\\n\", text)\n",
    "    birth_date = get_pattern_match(\"Born.*\\n(.*)\\(age\",text)\n",
    "    birth_place = get_pattern_match(\"\\(age.*\\)\\n([A-Za-z].*)\\n\", text)\n",
    "    return {\n",
    "        'age': int(age), \n",
    "        'name': full_name.strip(),\n",
    "        'birth_date': birth_date.strip(),\n",
    "        'birth_place': birth_place.strip()\n",
    "    }\n",
    "\n",
    "get_pesonal_info(text)\n",
    "\n"
   ]
  },
  {
   "cell_type": "code",
   "execution_count": null,
   "id": "b350537d-a14a-49c9-9df8-9f45830cac67",
   "metadata": {},
   "outputs": [],
   "source": []
  }
 ],
 "metadata": {
  "kernelspec": {
   "display_name": "Python 3 (ipykernel)",
   "language": "python",
   "name": "python3"
  },
  "language_info": {
   "codemirror_mode": {
    "name": "ipython",
    "version": 3
   },
   "file_extension": ".py",
   "mimetype": "text/x-python",
   "name": "python",
   "nbconvert_exporter": "python",
   "pygments_lexer": "ipython3",
   "version": "3.11.5"
  }
 },
 "nbformat": 4,
 "nbformat_minor": 5
}
